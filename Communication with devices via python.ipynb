{
 "metadata": {
  "name": "",
  "signature": "sha256:a58db40366b02afc39ab5a7eb3bf7195c39c24c9f17b8667cda2a40095aef5eb"
 },
 "nbformat": 3,
 "nbformat_minor": 0,
 "worksheets": [
  {
   "cells": [
    {
     "cell_type": "heading",
     "level": 1,
     "metadata": {},
     "source": [
      "Communication with devices - An Arduino example"
     ]
    },
    {
     "cell_type": "heading",
     "level": 2,
     "metadata": {},
     "source": [
      "What's an Arduino?"
     ]
    },
    {
     "cell_type": "markdown",
     "metadata": {},
     "source": [
      "Arduino is a family of single-board microcontrollers, intended to make it easier to build interactive objects or environments. The hardware consists of an open-source hardware board designed around an 8-bit Atmel AVR microcontroller or a 32-bit Atmel ARM. Current models feature a USB interface together with six analog input pins and 14 digital I/O pins that can accommodate various extension boards.\n",
      "The first Arduino was introduced in 2005. Its designers sought to provide an inexpensive and easy way for hobbyists, students, and professionals to create devices that interact with their environment using sensors and actuators. Common examples for beginner hobbyists include simple robots, thermostats and motion detectors. Arduino boards come with a simple integrated development environment (IDE) that runs on regular personal computers and allows users to write programs for Arduino using C or C++.\n",
      "(From: http://en.wikipedia.org/wiki/Arduino)"
     ]
    },
    {
     "cell_type": "heading",
     "level": 1,
     "metadata": {},
     "source": [
      "Data transmissions protocol"
     ]
    },
    {
     "cell_type": "heading",
     "level": 2,
     "metadata": {},
     "source": [
      "What is it?"
     ]
    },
    {
     "cell_type": "markdown",
     "metadata": {},
     "source": [
      "Communicating systems use well-defined formats for exchanging messages. Each message has an exact meaning intended to elicit a response from a range of possible responses pre-determined for that particular situation. Thus, a protocol must define the syntax, semantics, and synchronization of communication; the specified behavior is typically independent of how it is to be implemented. A protocol can therefore be implemented as hardware, software, or both. **Communications protocols have to be agreed upon by the parties involved.** To reach agreement, a protocol may be developed into a technical standard. A programming language describes the same for computations, so there is a close analogy between protocols and programming languages: protocols are to communications as programming languages are to computations. (From: Wikipedia)"
     ]
    },
    {
     "cell_type": "heading",
     "level": 2,
     "metadata": {},
     "source": [
      "Why use one?"
     ]
    },
    {
     "cell_type": "markdown",
     "metadata": {},
     "source": [
      "- Message exchange standard\n",
      "- Might ensure delivery\n",
      "- Ensure message integrity"
     ]
    },
    {
     "cell_type": "heading",
     "level": 1,
     "metadata": {},
     "source": [
      "Simple protocol for Python-Arduino communication"
     ]
    },
    {
     "cell_type": "heading",
     "level": 2,
     "metadata": {},
     "source": [
      "Main requirements"
     ]
    },
    {
     "cell_type": "markdown",
     "metadata": {},
     "source": [
      "- Lightweight and fast\n",
      "- Easy to implement and maintain on Arduino\n",
      "- Reusable\n",
      "- Versatile"
     ]
    },
    {
     "cell_type": "heading",
     "level": 2,
     "metadata": {},
     "source": [
      "Specifications"
     ]
    },
    {
     "cell_type": "code",
     "collapsed": false,
     "input": [
      "# A message consists of the following parts (5 bytes):\n",
      "HEADER_BYTE_1 = 0xFF\n",
      "HEADER_BYTE_2 = 0XFE\n",
      "MSG_CMD = 0x0\n",
      "MSG_VAL = 0x0\n",
      "MSG_CHECKSUM = 0x0\n",
      "\n",
      "# def to8bit(x): return (x%(1<<8)) # x mod 256\n",
      "# message is considered correct, if to8bit(MSG_CMD + MSG_VAL) == MSG_CHECKSUM\n",
      "# otherwise message is considered corrupt\n"
     ],
     "language": "python",
     "metadata": {},
     "outputs": []
    },
    {
     "cell_type": "heading",
     "level": 2,
     "metadata": {},
     "source": [
      "Main architecture"
     ]
    },
    {
     "cell_type": "markdown",
     "metadata": {},
     "source": [
      "- constructor receives baud/port and a set of possible commands in a tuple of Strings\n",
      "- - numeric values for each command are assigned automatically\n",
      "- communication is done in a separate thread\n",
      "- callback functions can be defined for incoming messages of various types\n",
      "- sending messages is done asynchronously, via a message queue"
     ]
    },
    {
     "cell_type": "heading",
     "level": 2,
     "metadata": {},
     "source": [
      "Initialisation"
     ]
    },
    {
     "cell_type": "markdown",
     "metadata": {},
     "source": [
      "Constructor receives baud/port and a set of possible commands in a tuple of Strings:"
     ]
    },
    {
     "cell_type": "code",
     "collapsed": false,
     "input": [
      "class SimpleProtocolConnection:\n",
      "\n",
      "    def __init__(self, port, baud, commands):\n",
      "        print(\"__init__\")\n",
      "        # ...\n",
      "        \n",
      "    #...\n",
      "        \n",
      "port = '/dev/tty.usbmodem1411'\n",
      "baud = '9600'\n",
      "messages = (\"CMD_HEARTBEAT\", \"CMD_ACK\", \"CMD_TEST1\")\n",
      "\n",
      "con = SimpleProtocolConnection(port, baud, messages)"
     ],
     "language": "python",
     "metadata": {},
     "outputs": []
    },
    {
     "cell_type": "markdown",
     "metadata": {},
     "source": [
      "Command list is prepared and indexed"
     ]
    },
    {
     "cell_type": "code",
     "collapsed": false,
     "input": [
      "class SimpleProtocolConnection:\n",
      "\n",
      "    def __init__(self, port, baud, commands):\n",
      "        print(\"__init__\")\n",
      "        # ...    \n",
      "        enum_commands = enumerate(commands)\n",
      "        self.id_to_command = dict(enum_commands)\n",
      "        self.command_to_id = {command:idx for idx, command in self.id_to_command.items()}\n",
      "        # ..."
     ],
     "language": "python",
     "metadata": {},
     "outputs": []
    },
    {
     "cell_type": "heading",
     "level": 2,
     "metadata": {},
     "source": [
      "Threading"
     ]
    },
    {
     "cell_type": "markdown",
     "metadata": {},
     "source": [
      "In computer science, a thread of execution is the smallest sequence of programmed instructions that can be managed independently by a scheduler (typically as part of an operating system). The implementation of threads and processes differs from one operating system to another, but in most cases, a thread is a component of a process. Multiple threads can exist within the same process and share resources such as memory, while different processes do not share these resources. In particular, the threads of a process share the latter's instructions (its code) and its context (the values that its variables reference at any given moment). (From Wikipedia)"
     ]
    },
    {
     "cell_type": "heading",
     "level": 3,
     "metadata": {},
     "source": [
      "Each connection instance has its own thread"
     ]
    },
    {
     "cell_type": "code",
     "collapsed": false,
     "input": [
      "class SimpleProtocolConnection:    \n",
      "    # -------- Connection dispatching -------- \n",
      "    # Open a connection on a created protocol\n",
      "    def open(self):\n",
      "\n",
      "        # helper threading class\n",
      "        class ConnectionThread(threading.Thread):\n",
      "            def __init__(self, connection):\n",
      "                threading.Thread.__init__(self)\n",
      "                self.connection = connection\n",
      "\n",
      "            def run(self):\n",
      "                self.connection.main_loop()\n",
      "\n",
      "        # clear the stop flag\n",
      "        self.do_stop = False\n",
      "        print('Connecting')\n",
      "\n",
      "        # create and launch the connectiob thread\n",
      "        self.main_thread = ConnectionThread(self)\n",
      "        self.main_thread.start()"
     ],
     "language": "python",
     "metadata": {},
     "outputs": []
    },
    {
     "cell_type": "code",
     "collapsed": false,
     "input": [
      "class SimpleProtocolConnection:\n",
      "    # main duty cycle\n",
      "    def main_loop(self):\n",
      "        print('Entering main loop')\n",
      "        self.is_connecting = True\n",
      "        #open a serial connection\n",
      "        with serial.Serial(self.port, self.baud) as self.ser:\n",
      "            self.is_connecting = False\n",
      "            self.is_connected = True\n",
      "\n",
      "            # do serial communication here\n",
      "\n",
      "            print('Leaving main loop')\n",
      "            self.is_connected = False"
     ],
     "language": "python",
     "metadata": {},
     "outputs": []
    },
    {
     "cell_type": "heading",
     "level": 2,
     "metadata": {},
     "source": [
      "Callback functions"
     ]
    },
    {
     "cell_type": "markdown",
     "metadata": {},
     "source": [
      "In computer programming, a callback is a piece of executable code that is passed as an argument to other code, which is expected to call back (execute) the argument at some convenient time. The invocation may be immediate as in a synchronous callback or it might happen at later time, as in an asynchronous callback. In all cases, the intention is to specify a function or subroutine as an entity that is, depending on the language, more or less similar to a variable. (From: Wikipedia)"
     ]
    },
    {
     "cell_type": "markdown",
     "metadata": {},
     "source": [
      "More information: Don't call us, we'll call you: callback patterns and idioms in Python(http://www.aleax.it/pyc08_cback.pdf)"
     ]
    },
    {
     "cell_type": "heading",
     "level": 3,
     "metadata": {},
     "source": [
      "Callback architecture"
     ]
    },
    {
     "cell_type": "markdown",
     "metadata": {},
     "source": [
      "- callbacks are stored as a dictionary:\n",
      "- - COMMAND_NAME_STRING -> LIST_OF_FCN_HANDLES.\n",
      "- Callback functions are expected to have format:\n",
      "- - def proto_callback(connection, command, value), where\n",
      "- - connection - is a SimpleProtocolConnection object\n",
      "- - command - is a string with command name\n",
      "- - value - is an integer from 0 to 255"
     ]
    },
    {
     "cell_type": "heading",
     "level": 3,
     "metadata": {},
     "source": [
      "Each incoming message type might have one, multiplem or no callbacks"
     ]
    },
    {
     "cell_type": "code",
     "collapsed": false,
     "input": [
      "class SimpleProtocolConnection:\n",
      "    def __init__(self, port, baud, commands):\n",
      "        print(\"__init__\")\n",
      "        # ...\n",
      "        # init callback dictionary\n",
      "        self.callbacks = dict((command, []) for command in commands)\n",
      "        # ..."
     ],
     "language": "python",
     "metadata": {},
     "outputs": []
    },
    {
     "cell_type": "code",
     "collapsed": false,
     "input": [
      "class SimpleProtocolConnection:    \n",
      "    # -------- Callback dispatching --------\n",
      "\n",
      "    def add_callback(self, command, fcn):\n",
      "        if command in self.callbacks.keys():\n",
      "            # add a callback to the callback dict\n",
      "            if fcn not in self.callbacks[command]:\n",
      "                # prevent duplicate callbacks\n",
      "                self.callbacks[command].append(fcn)\n",
      "        else:\n",
      "            # no such command => throw an exception\n",
      "            raise Exception(\"No such command: %s\" % command)\n",
      "\n",
      "    def clear_callback(self, command):\n",
      "        if command in self.callbacks.keys():\n",
      "            self.callbacks[command] = []\n",
      "\n",
      "    def fire_callbacks(self, command, value):\n",
      "        if command in self.callbacks.keys():\n",
      "            for fcn in self.callbacks[command]:\n",
      "                fcn(self, command, value)\n",
      "\n",
      "    # -------- End of callback dispatching --------"
     ],
     "language": "python",
     "metadata": {},
     "outputs": []
    },
    {
     "cell_type": "heading",
     "level": 3,
     "metadata": {},
     "source": [
      "When a message arrives"
     ]
    },
    {
     "cell_type": "code",
     "collapsed": false,
     "input": [
      "class SimpleProtocolConnection:  \n",
      "    \n",
      "    def read_and_decode_message(self):\n",
      "        c = self.ser.read(1)\n",
      "        while not(type(c) == type(2)):\n",
      "            c = bytearray(c)[0]\n",
      "            if (self.c_state == self.S_IDLE):\n",
      "                self.c_state =  self.S_HEADER1  if (c==self.HEADER_BYTE_1) else self.S_IDLE\n",
      "            # ...\n",
      "            elif (self.c_state == self.S_MSG_VAL):\n",
      "                if (self.to8bit(self.checksum) == self.to8bit(c)):  # compare calculated and transferred checksum\n",
      "                    # ...\n",
      "                    # fire callbacks on received command\n",
      "                    self.fire_callbacks(cmd_str, self.value)\n",
      "                # ...\n",
      "                return \n",
      "            c = self.ser.read()"
     ],
     "language": "python",
     "metadata": {},
     "outputs": []
    },
    {
     "cell_type": "heading",
     "level": 3,
     "metadata": {},
     "source": [
      "Usage"
     ]
    },
    {
     "cell_type": "code",
     "collapsed": false,
     "input": [
      "def test_fcn1(con ,cmd, val):\n",
      "    print('cb: Heartbeat1', con.port, con.baud, cmd, val)\n",
      "def test_fcn3(con ,cmd, val):\n",
      "    print('cb: Heartbeat3', con.port, con.baud, cmd, val)\n",
      "def test_fcn2(con ,cmd, val):\n",
      "    print('cb: ACK', con.port, con.baud, cmd, val)\n",
      "\n",
      "commands = (\n",
      "    (\"CMD_HEARTBEAT\", 0),\n",
      "    (\"CMD_ACK\", 1),\n",
      "    (\"CMD_TEST1\", 4)\n",
      ")\n",
      "\n",
      "con = SimpleProtocolConnection('/dev/tty.usbmodem1411', '9600', commands)\n",
      "\n",
      "con.add_callback('CMD_HEARTBEAT', test_fcn1)\n",
      "con.add_callback('CMD_HEARTBEAT', test_fcn3)\n",
      "\n",
      "con.clear_callback(\"CMD_HEARTBEAT\")\n",
      "con.add_callback('CMD_ACK', test_fcn2)"
     ],
     "language": "python",
     "metadata": {},
     "outputs": []
    },
    {
     "cell_type": "heading",
     "level": 2,
     "metadata": {},
     "source": [
      "Sending messages via a queue"
     ]
    },
    {
     "cell_type": "heading",
     "level": 3,
     "metadata": {},
     "source": [
      "Python queue"
     ]
    },
    {
     "cell_type": "code",
     "collapsed": false,
     "input": [
      "class Queue.Queue(maxsize=0)"
     ],
     "language": "python",
     "metadata": {},
     "outputs": []
    },
    {
     "cell_type": "markdown",
     "metadata": {},
     "source": [
      "Constructor for a FIFO queue. maxsize is an integer that sets the upperbound limit on the number of items that can be placed in the queue. Insertion will block once this size has been reached, until queue items are consumed. If maxsize is less than or equal to zero, the queue size is infinite."
     ]
    },
    {
     "cell_type": "heading",
     "level": 3,
     "metadata": {},
     "source": [
      "Adding messages to the queue (done in main thread)"
     ]
    },
    {
     "cell_type": "code",
     "collapsed": false,
     "input": [
      "class SimpleProtocolConnection:\n",
      "    \n",
      "    def send_command(self, command, value):\n",
      "        # check connection\n",
      "        if self.is_connected or self.is_connecting:\n",
      "            # check if command exists\n",
      "            if command in self.callbacks.keys():\n",
      "                print(\"Queueing command\", command, value)\n",
      "                self.output_commands.put((command, value))\n",
      "            else:\n",
      "                # no such command => throw an exception\n",
      "                raise Exception(\"No such command: %s\" % command)\n",
      "        else:\n",
      "            # not connected => throw an exception\n",
      "            raise Exception(\"Not connected\")"
     ],
     "language": "python",
     "metadata": {},
     "outputs": []
    },
    {
     "cell_type": "heading",
     "level": 3,
     "metadata": {},
     "source": [
      "Executing messages from the queue (done in separate thread / main loop)"
     ]
    },
    {
     "cell_type": "code",
     "collapsed": false,
     "input": [
      "class SimpleProtocolConnection:    \n",
      "    \n",
      "    def main_loop(self):\n",
      "        # ...\n",
      "        with serial.Serial(self.port, self.baud) as self.ser:\n",
      "            # ...\n",
      "            while not self.do_stop:\n",
      "                # ...\n",
      "                if not self.output_commands.empty():\n",
      "                    # pull next message from queue\n",
      "                    (out_cmd, out_val) = self.output_commands.get()\n",
      "                    \n",
      "                    self.encode_and_send_message(out_cmd, out_val)\n",
      "                    \n",
      "                    # execute task_done - needed for proper queue performance\n",
      "                    self.output_commands.task_done()\n",
      "                # ..."
     ],
     "language": "python",
     "metadata": {},
     "outputs": []
    },
    {
     "cell_type": "heading",
     "level": 3,
     "metadata": {},
     "source": [
      "Usage"
     ]
    },
    {
     "cell_type": "code",
     "collapsed": false,
     "input": [
      "commands = (\n",
      "    (\"CMD_HEARTBEAT\", 0),\n",
      "    (\"CMD_ACK\", 1),\n",
      "    (\"CMD_TEST1\", 4)\n",
      ")\n",
      "\n",
      "con = SimpleProtocolConnection('/dev/tty.usbmodem1411', '9600', commands)\n",
      "\n",
      "con.send_command(\"CMD_TEST1\", 123)\n",
      "con.send_command(\"CMD_HEARTBEAT\", 2)"
     ],
     "language": "python",
     "metadata": {},
     "outputs": []
    },
    {
     "cell_type": "heading",
     "level": 2,
     "metadata": {},
     "source": [
      "With...as statement"
     ]
    },
    {
     "cell_type": "code",
     "collapsed": false,
     "input": [
      "class controlled_execution:\n",
      "    def __enter__(self):\n",
      "        set things up\n",
      "        return thing\n",
      "    def __exit__(self, type, value, traceback):\n",
      "        tear things down\n",
      "\n",
      "with controlled_execution() as thing:\n",
      "     some code"
     ],
     "language": "python",
     "metadata": {},
     "outputs": []
    },
    {
     "cell_type": "markdown",
     "metadata": {},
     "source": [
      "Now, when the \u201cwith\u201d statement is executed, Python evaluates the expression, calls the __enter__ method on the resulting value (which is called a \u201ccontext guard\u201d), and assigns whatever __enter__ returns to the variable given by as. Python will then execute the code body, and no matter what happens in that code, call the guard object\u2019s __exit__ method. (From: http://effbot.org/zone/python-with-statement.htm)"
     ]
    },
    {
     "cell_type": "heading",
     "level": 3,
     "metadata": {},
     "source": [
      "With...as implementation"
     ]
    },
    {
     "cell_type": "code",
     "collapsed": false,
     "input": [
      "class SimpleProtocolConnection:\n",
      "\n",
      "    # -------- With statement support --------\n",
      "\n",
      "    def __enter__(self):\n",
      "        print(\"__enter__\")\n",
      "        self.open()\n",
      "        return self\n",
      "\n",
      "    def __exit__(self, type, value, traceback):\n",
      "        print(\"__exit__\")\n",
      "        self.close()\n",
      "\n",
      "    # -------- End of with statement support --------"
     ],
     "language": "python",
     "metadata": {},
     "outputs": []
    },
    {
     "cell_type": "heading",
     "level": 3,
     "metadata": {},
     "source": [
      "Usage"
     ]
    },
    {
     "cell_type": "code",
     "collapsed": false,
     "input": [
      "commands = (\n",
      "    (\"CMD_HEARTBEAT\", 0),\n",
      "    (\"CMD_ACK\", 1),\n",
      "    (\"CMD_TEST1\", 4)\n",
      ")\n",
      "\n",
      "with SimpleProtocolConnection('/dev/tty.usbmodem1411', '9600', commands) as con:\n",
      "    \n",
      "    con.add_callback('CMD_HEARTBEAT', test_fcn1)\n",
      "    con.add_callback('CMD_HEARTBEAT', test_fcn3)\n",
      "\n",
      "    con.send_command(\"CMD_TEST1\", 123)\n",
      "    con.send_command(\"CMD_HEARTBEAT\", 2)\n",
      "\n",
      "    time.sleep(4)\n",
      "    con.clear_callback(\"CMD_HEARTBEAT\")\n",
      "    con.add_callback('CMD_ACK', test_fcn2)\n",
      "\n",
      "    con.send_command(\"CMD_TEST1\", 123)\n",
      "    con.send_command(\"CMD_HEARTBEAT\", 2)"
     ],
     "language": "python",
     "metadata": {},
     "outputs": []
    },
    {
     "cell_type": "heading",
     "level": 1,
     "metadata": {},
     "source": [
      "Python implementation"
     ]
    },
    {
     "cell_type": "heading",
     "level": 3,
     "metadata": {},
     "source": [
      "Message parser is a state machine"
     ]
    },
    {
     "cell_type": "markdown",
     "metadata": {},
     "source": [
      "-> IDLE: waiting for incoming bytes. If header 1 received, go to HEADER1 state.\n",
      "\n",
      "-> HEADER1: received header 1, waiting for header 2. If something other then header 2 received, go to IDLE.\n",
      "\n",
      "-> HEADER2: received header 2, waiting for command code.\n",
      "\n",
      "-> MSG_CMD: received command code, waiting for value.\n",
      "\n",
      "-> MSG_VAL: received value, waiting for message checksum. Test checksum after receiving. If checksum is good, evaluate package, else drop package.\n",
      "\n",
      "-> IDLE"
     ]
    },
    {
     "cell_type": "code",
     "collapsed": false,
     "input": [
      "import serial\n",
      "import struct\n",
      "import time\n",
      "import array\n",
      "\n",
      "def to8bit(x):\n",
      "    return (x%(1<<8))"
     ],
     "language": "python",
     "metadata": {},
     "outputs": []
    },
    {
     "cell_type": "code",
     "collapsed": false,
     "input": [
      "\n",
      "    def __init__(self, port, baud, commands):\n",
      "\n",
      "        # define constants\n",
      "        self.S_IDLE = 0\n",
      "        self.S_HEADER1 = 1\n",
      "        self.S_HEADER2 = 2\n",
      "        self.S_MSG_CMD = 3\n",
      "        self.S_MSG_VAL = 4\n",
      "        self.c_state = self.S_IDLE\n",
      "        self.HEADER_BYTE_1 = 0xFF\n",
      "        self.HEADER_BYTE_2 = 0XFE\n",
      "\n",
      "        self.value = 0\n",
      "        self.checksum = 0\n",
      "        self.cmd = 0\n",
      "        self.inBuf = []\n",
      "        \n",
      "        # ..."
     ],
     "language": "python",
     "metadata": {},
     "outputs": []
    },
    {
     "cell_type": "heading",
     "level": 3,
     "metadata": {},
     "source": [
      "State machine"
     ]
    },
    {
     "cell_type": "code",
     "collapsed": false,
     "input": [
      "class SimpleProtocolConnection:\n",
      "    \n",
      "    # -------- Protocol definition (decode/encode) -------- \n",
      "    def to8bit(self, x):\n",
      "        return (x%(1<<8))\n",
      "\n",
      "    def read_and_decode_message(self):\n",
      "        c = self.ser.read(1)\n",
      "        while not(type(c) == type(2)):\n",
      "            c = bytearray(c)[0]\n",
      "            if (self.c_state == self.S_IDLE):\n",
      "                self.c_state =  self.S_HEADER1  if (c==self.HEADER_BYTE_1) else self.S_IDLE\n",
      "            elif (self.c_state == self.S_HEADER1):\n",
      "                self.c_state = self.S_HEADER2 if(c==self.HEADER_BYTE_2) else self.S_IDLE\n",
      "            elif (self.c_state == self.S_HEADER2):\n",
      "                self.cmd = c\n",
      "                self.checksum = 0\n",
      "                self.checksum = self.to8bit(self.checksum + c)\n",
      "                self.c_state = self.S_MSG_CMD\n",
      "            elif (self.c_state == self.S_MSG_CMD):\n",
      "                self.value = c\n",
      "                self.checksum = self.to8bit(self.checksum + c)\n",
      "                self.c_state = self.S_MSG_VAL  # the command is to follow\n",
      "            elif (self.c_state == self.S_MSG_VAL):\n",
      "                if (self.to8bit(self.checksum) == self.to8bit(c)):  # compare calculated and transferred checksum\n",
      "                    #print(\"good checksum\")  # we got a valid packet, evaluate it\n",
      "                    cmd_str = self.id_to_command.get(self.cmd, self.cmd)\n",
      "                    self.echo_command_received(cmd_str, self.value)\n",
      "                    self.fire_callbacks(cmd_str, self.value)\n",
      "                else :\n",
      "                    a = 0\n",
      "                    print (\"wrong checksum: \" , self.to8bit(self.checksum) , self.to8bit(c))\n",
      "                self.c_state = self.S_IDLE\n",
      "                return \n",
      "            c = self.ser.read()"
     ],
     "language": "python",
     "metadata": {},
     "outputs": []
    },
    {
     "cell_type": "heading",
     "level": 3,
     "metadata": {},
     "source": [
      "Print sent/received commands"
     ]
    },
    {
     "cell_type": "code",
     "collapsed": false,
     "input": [
      "class SimpleProtocolConnection:\n",
      "    \n",
      "    def echo_command_sent(self, command, value):\n",
      "        print(\"Sent\", \"\\t\", command, \"\\t\", \"with value\", value)\n",
      "    def echo_command_received(self, command, value):\n",
      "        print(\"Received\", \"\\t\", command, \"\\t\", \"with value\", value)"
     ],
     "language": "python",
     "metadata": {},
     "outputs": []
    }
   ],
   "metadata": {}
  }
 ]
}